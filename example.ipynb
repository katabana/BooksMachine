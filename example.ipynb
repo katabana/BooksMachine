{
 "cells": [
  {
   "cell_type": "markdown",
   "metadata": {},
   "source": [
    "<div align=\"center\"><b>BooksMachine</b></div> <br>\n",
    "<b> BooksMachine </b> is a program helping users verify origin of quotes for Python 3. \n",
    "\n",
    "It takes text of quote and title or author as arguments and decides whether this text could have been written in given book or by that author or not. BooksMachine finds books using Google Books API.\n",
    "\n",
    "Caution: If any book contains given text as a quote, the program cannot tell its proper origin but will claim that it is likely that the quote is from the book. \n",
    "\n",
    "i. e. Michail Bulgakov starts \"Master and Margarita\" with quote from Goethe's \"Faust\":\n",
    "\n",
    "«... who are you, then?\n",
    "I am part of that power\n",
    "which eternally wills evil\n",
    "and eternally works good.»\n",
    "\n",
    "and program will agree that it is likely for that quote to come from the book if you test \"Master and Margarita\". \n",
    "Therefore it is recommended to check your sources.\n",
    "\n",
    "Arguments:\n",
    "\n",
    "<i>quote type factor\n",
    "\n",
    "quote</i> - text that is searched in Google Books API <br>\n",
    "<i>type</i> - 'title' or 'author' - is information about comparision of factor and results <br>\n",
    "<i>factor</i> - title of the book or name/names of the author - it is compared to the results <br>\n",
    "\n",
    "Usage example:"
   ]
  },
  {
   "cell_type": "code",
   "execution_count": 2,
   "metadata": {
    "collapsed": false
   },
   "outputs": [
    {
     "name": "stdout",
     "output_type": "stream",
     "text": [
      "The quote is likely to be from the source you tried.\n"
     ]
    }
   ],
   "source": [
    "import booksmachine\n",
    "booksmachine.main(\"What, my dear Lady Disdain! are you yet living?\", 'author', \"William\")"
   ]
  },
  {
   "cell_type": "markdown",
   "metadata": {},
   "source": [
    "And another:"
   ]
  },
  {
   "cell_type": "code",
   "execution_count": 4,
   "metadata": {
    "collapsed": false
   },
   "outputs": [
    {
     "name": "stdout",
     "output_type": "stream",
     "text": [
      "The quote is likely not to be from the source you have given.\n",
      "To be 100% sure you could try longer quote.\n"
     ]
    }
   ],
   "source": [
    "booksmachine.main(\"What, my dear Lady Disdain! are you yet living?\", \"author\", 'Mickiewicz')"
   ]
  },
  {
   "cell_type": "markdown",
   "metadata": {},
   "source": [
    "You might also want to use booskmachine in system console:"
   ]
  },
  {
   "cell_type": "code",
   "execution_count": null,
   "metadata": {
    "collapsed": true
   },
   "outputs": [],
   "source": [
    "booksmachine 'What, my dear Lady Disdain are you yet living' 'author' \"William\""
   ]
  },
  {
   "cell_type": "markdown",
   "metadata": {},
   "source": [
    "If you pass less arguments to function, error description might be a little bit misleading but it is certainly understandable. <b>If error occurs, python console ends</b>:"
   ]
  },
  {
   "cell_type": "code",
   "execution_count": 3,
   "metadata": {
    "collapsed": false,
    "scrolled": true
   },
   "outputs": [
    {
     "name": "stderr",
     "output_type": "stream",
     "text": [
      "usage: __init__.py [-h] quote type factor\n",
      "__init__.py: error: the following arguments are required: quote, type, factor\n"
     ]
    },
    {
     "ename": "SystemExit",
     "evalue": "2",
     "output_type": "error",
     "traceback": [
      "An exception has occurred, use %tb to see the full traceback.\n",
      "\u001b[0;31mSystemExit\u001b[0m\u001b[0;31m:\u001b[0m 2\n"
     ]
    },
    {
     "name": "stderr",
     "output_type": "stream",
     "text": [
      "/home/kasia/.local/lib/python3.5/site-packages/IPython/core/interactiveshell.py:2855: UserWarning: To exit: use 'exit', 'quit', or Ctrl-D.\n",
      "  warn(\"To exit: use 'exit', 'quit', or Ctrl-D.\", stacklevel=1)\n"
     ]
    }
   ],
   "source": [
    "booksmachine.main(\"Litwo, Ojczyzno moja!\", 'author')"
   ]
  },
  {
   "cell_type": "markdown",
   "metadata": {},
   "source": [
    "<b>BooksMachine Installation:</b>"
   ]
  },
  {
   "cell_type": "code",
   "execution_count": null,
   "metadata": {
    "collapsed": true
   },
   "outputs": [],
   "source": [
    "pip3 install git+https://github.com/katabana/BooksMachine.git\n",
    "\n"
   ]
  },
  {
   "cell_type": "markdown",
   "metadata": {},
   "source": [
    "Required modules installation:"
   ]
  },
  {
   "cell_type": "code",
   "execution_count": null,
   "metadata": {
    "collapsed": false
   },
   "outputs": [],
   "source": [
    "pip3 install -r requirements.txt"
   ]
  }
 ],
 "metadata": {
  "celltoolbar": "Raw Cell Format",
  "kernelspec": {
   "display_name": "Python 3",
   "language": "python",
   "name": "python3"
  },
  "language_info": {
   "codemirror_mode": {
    "name": "ipython",
    "version": 3
   },
   "file_extension": ".py",
   "mimetype": "text/x-python",
   "name": "python",
   "nbconvert_exporter": "python",
   "pygments_lexer": "ipython3",
   "version": "3.5.2"
  }
 },
 "nbformat": 4,
 "nbformat_minor": 1
}
